{
  "nbformat": 4,
  "nbformat_minor": 0,
  "metadata": {
    "colab": {
      "name": "LoanCalculation.ipynb",
      "provenance": [],
      "collapsed_sections": []
    },
    "kernelspec": {
      "name": "python3",
      "display_name": "Python 3"
    },
    "language_info": {
      "name": "python"
    }
  },
  "cells": [
    {
      "cell_type": "code",
      "metadata": {
        "id": "PGC3Z2yNV5qr"
      },
      "source": [
        "import json"
      ],
      "execution_count": 41,
      "outputs": []
    },
    {
      "cell_type": "code",
      "metadata": {
        "id": "2QEFklOgWoZC"
      },
      "source": [
        "f= open('interest.json')\n",
        "data = json.load(f)"
      ],
      "execution_count": 42,
      "outputs": []
    },
    {
      "cell_type": "code",
      "metadata": {
        "colab": {
          "base_uri": "https://localhost:8080/"
        },
        "id": "DqUG86S6UXvm",
        "outputId": "447b0084-fd9f-47a9-9dea-91e8ff1653c3"
      },
      "source": [
        "def compound_interest(p,r,t):\n",
        "    print('Amount: ', p)\n",
        "    print(\"Rate of Interest (Per Annum)\", r)\n",
        "    print(\"Time (In Years): \",t)\n",
        "    a= p*((1+r/100)**t)\n",
        "    # p = Amount ; r = Rate of Interest; t = Time\n",
        "    ci= a-p\n",
        "    # ci = Compound Interest\n",
        "    print(\"Final Amount: \", a)\n",
        "    print(\"Compound Interest: \", ci)\n",
        "compound_interest(data['Amount'],data['Rate of Interest'], data['Time'])"
      ],
      "execution_count": 47,
      "outputs": [
        {
          "output_type": "stream",
          "name": "stdout",
          "text": [
            "Amount:  1000\n",
            "Rate of Interest (Per Annum) 10\n",
            "Time (In Years):  2\n",
            "Final Amount:  1210.0000000000002\n",
            "Compound Interest:  210.00000000000023\n"
          ]
        }
      ]
    }
  ]
}