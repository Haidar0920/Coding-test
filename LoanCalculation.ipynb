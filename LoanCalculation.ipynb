{
  "nbformat": 4,
  "nbformat_minor": 0,
  "metadata": {
    "colab": {
      "name": "LoanCalculation.ipynb",
      "provenance": [],
      "collapsed_sections": []
    },
    "kernelspec": {
      "name": "python3",
      "display_name": "Python 3"
    },
    "language_info": {
      "name": "python"
    }
  },
  "cells": [
    {
      "cell_type": "code",
      "metadata": {
        "id": "PGC3Z2yNV5qr"
      },
      "source": [
        "import json"
      ],
      "execution_count": 41,
      "outputs": []
    },
    {
      "cell_type": "code",
      "metadata": {
        "id": "2QEFklOgWoZC"
      },
      "source": [
        "f= open('interest.json')\n",
        "data = json.load(f)"
      ],
      "execution_count": 42,
      "outputs": []
    },
    {
      "cell_type": "code",
      "metadata": {
        "id": "DqUG86S6UXvm"
      },
      "source": [
        "def compound_interest(p,r,t):\n",
        "    print('Amount: ', p)\n",
        "    print(\"Rate of Interest (Per Annum)\", r)\n",
        "    print(\"Time (In Years): \",t)\n",
        "    a= p*((1+r/100)**t)\n",
        "    # p= \n",
        "    ci= a-p\n",
        "    print(\"Final Amount: \", a)\n",
        "    print(\"Compound Interest: \", ci)"
      ],
      "execution_count": 44,
      "outputs": []
    },
    {
      "cell_type": "code",
      "metadata": {
        "colab": {
          "base_uri": "https://localhost:8080/"
        },
        "id": "IIU52qTvOiPr",
        "outputId": "28db5e9f-1f95-4757-eaea-51d52328c2ac"
      },
      "source": [
        "compound_interest(data['Amount'],data['Rate of Interest'], data['Time'])"
      ],
      "execution_count": 45,
      "outputs": [
        {
          "output_type": "stream",
          "name": "stdout",
          "text": [
            "Amount:  1000\n",
            "Rate of Interest (Per Annum) 10\n",
            "Time (In Years):  2\n",
            "Final Amount:  1210.0000000000002\n",
            "Compound Interest:  210.00000000000023\n"
          ]
        }
      ]
    }
  ]
}